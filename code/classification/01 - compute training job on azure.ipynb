{
 "cells": [
  {
   "cell_type": "markdown",
   "metadata": {},
   "source": [
    "**Company Name:**\n",
    "- Major Hospital\n",
    "\n",
    "**Problem Type:**\n",
    "\n",
    "- Classification (Multi Class)\n",
    "\n",
    "**Problem:**\n",
    "- The company wants to automate the classification of patients depending on if they have hepatitis or not and if so, what category of hepatitis they have.\n",
    "\n",
    "**Goal:**\n",
    "- These details (features we will use to predict) are as follows:\n",
    "  - X (Patient ID/No.)\n",
    "  - Age (in years)\n",
    "  - Sex (f,m)\n",
    "  - ALB\n",
    "  - ALP\n",
    "  - ALT\n",
    "  - AST\n",
    "  - BIL\n",
    "  - CHE\n",
    "  - CHOL\n",
    "  - CREA\n",
    "  - GGT\n",
    "  - PROT\n",
    "\n",
    "\n",
    "- Which will let us determine the target variable which is:\n",
    "  - Category (diagnosis) (values: '0=Blood Donor', '0s=suspect Blood Donor', '1=Hepatitis', '2=Fibrosis', '3=Cirrhosis')\n",
    "  - We have encoded the Category column so, 0, 1, 2, 3, 4 correspond respectively to '0=Blood Donor', '0s=suspect Blood Donor', '1=Hepatitis', '2=Fibrosis', '3=Cirrhosis'"
   ]
  },
  {
   "cell_type": "code",
   "execution_count": 30,
   "metadata": {},
   "outputs": [],
   "source": [
    "import pandas as pd\n",
    "import numpy as np\n",
    "\n",
    "#import main libraries\n",
    "import pandas as pd\n",
    "import numpy as np\n",
    "import matplotlib.pyplot as plt\n",
    "import seaborn as sns\n",
    "import os\n",
    "import catboost\n",
    "from xgboost import XGBClassifier\n",
    "from sklearn.metrics import accuracy_score\n",
    "import optuna\n",
    "from optuna.samplers import TPESampler\n",
    "from sklearn.metrics import ConfusionMatrixDisplay\n",
    "#import lightgbm as lgb\n",
    "from sklearn.preprocessing import LabelEncoder\n",
    "from sklearn.metrics import classification_report\n",
    "from sklearn.model_selection import cross_val_score\n",
    "from sklearn.compose import make_column_selector as selector\n",
    "from sklearn.preprocessing import OneHotEncoder, StandardScaler\n",
    "from sklearn.compose import ColumnTransformer\n",
    "from sklearn.pipeline import make_pipeline\n",
    "import numpy as np\n",
    "import warnings\n",
    "warnings.filterwarnings('ignore')"
   ]
  },
  {
   "cell_type": "code",
   "execution_count": 31,
   "metadata": {},
   "outputs": [],
   "source": [
    "np.random.seed(42)"
   ]
  },
  {
   "cell_type": "markdown",
   "metadata": {},
   "source": [
    "## Task 1: Understand the training code "
   ]
  },
  {
   "cell_type": "code",
   "execution_count": 48,
   "metadata": {},
   "outputs": [],
   "source": [
    "train = pd.read_parquet('data/train.parquet')\n",
    "\n",
    "test = pd.read_parquet('data/test.parquet')"
   ]
  },
  {
   "cell_type": "code",
   "execution_count": 49,
   "metadata": {},
   "outputs": [],
   "source": [
    "# Split train and test data into features X and targets Y.\n",
    "le = LabelEncoder()\n",
    "\n",
    "target_column_name = 'Category'\n",
    "Y_train = train[target_column_name]\n",
    "X_train = train.drop([target_column_name], axis = 1)  \n",
    "Y_test = test[target_column_name]\n",
    "X_test = test.drop([target_column_name], axis = 1)  "
   ]
  },
  {
   "cell_type": "code",
   "execution_count": 50,
   "metadata": {},
   "outputs": [
    {
     "data": {
      "text/plain": [
       "0      0\n",
       "1      0\n",
       "2      0\n",
       "3      0\n",
       "4      0\n",
       "      ..\n",
       "487    0\n",
       "488    0\n",
       "489    0\n",
       "490    0\n",
       "491    0\n",
       "Name: Category, Length: 492, dtype: int64"
      ]
     },
     "execution_count": 50,
     "metadata": {},
     "output_type": "execute_result"
    }
   ],
   "source": [
    "Y_train"
   ]
  },
  {
   "cell_type": "code",
   "execution_count": 51,
   "metadata": {},
   "outputs": [
    {
     "name": "stdout",
     "output_type": "stream",
     "text": [
      "Training model...\n",
      "Accuracy score:  0.926829268292683\n"
     ]
    }
   ],
   "source": [
    "\n",
    "\n",
    "# Transform string data to numeric one-hot vectors\n",
    "\n",
    "categorical_selector = selector(dtype_exclude=np.number)\n",
    "categorical_columns = categorical_selector(X_train)\n",
    "categorial_encoder = OneHotEncoder(handle_unknown='ignore')\n",
    "\n",
    "# Standardize numeric data by removing the mean and scaling to unit variance\n",
    "numerical_selector = selector(dtype_include=np.number)\n",
    "numerical_columns = numerical_selector(X_train)\n",
    "numerical_encoder = StandardScaler()\n",
    "\n",
    "# Create a preprocessor that will preprocess both numeric and categorical data\n",
    "preprocessor = ColumnTransformer([('categorical-encoder', categorial_encoder, categorical_columns),('standard_scaler', numerical_encoder, numerical_columns)])\n",
    "\n",
    "\n",
    "\n",
    "xgb = make_pipeline(preprocessor, XGBClassifier(use_label_encoder=False,\n",
    "                      eval_metric='mlogloss'))\n",
    "\n",
    "print('Training model...') \n",
    "\n",
    "model = xgb.fit(X_train, Y_train)\n",
    "\n",
    "print('Accuracy score: ', xgb.score(X_test,Y_test))"
   ]
  },
  {
   "cell_type": "markdown",
   "metadata": {},
   "source": [
    "## Task 2: Create a cloud client"
   ]
  },
  {
   "cell_type": "code",
   "execution_count": 52,
   "metadata": {},
   "outputs": [
    {
     "name": "stderr",
     "output_type": "stream",
     "text": [
      "Found the config file in: ./config.json\n"
     ]
    }
   ],
   "source": [
    "from azure.ai.ml import MLClient\n",
    "from azure.identity import DefaultAzureCredential\n",
    "credential = DefaultAzureCredential()\n",
    "ml_client = MLClient.from_config(credential=credential)"
   ]
  },
  {
   "cell_type": "markdown",
   "metadata": {},
   "source": [
    "## Task 3: Register the training and test data"
   ]
  },
  {
   "cell_type": "code",
   "execution_count": 54,
   "metadata": {},
   "outputs": [
    {
     "name": "stderr",
     "output_type": "stream",
     "text": [
      "DefaultAzureCredential failed to retrieve a token from the included credentials.\n",
      "Attempted credentials:\n",
      "\tEnvironmentCredential: EnvironmentCredential authentication unavailable. Environment variables are not fully configured.\n",
      "Visit https://aka.ms/azsdk/python/identity/environmentcredential/troubleshoot to troubleshoot this issue.\n",
      "\tManagedIdentityCredential: ManagedIdentityCredential authentication unavailable, no response from the IMDS endpoint.\n",
      "\tSharedTokenCacheCredential: SharedTokenCacheCredential authentication unavailable. No accounts were found in the cache.\n",
      "\tAzureCliCredential: Azure CLI not found on path\n",
      "\tAzurePowerShellCredential: PowerShell is not installed\n",
      "\tAzureDeveloperCliCredential: Azure Developer CLI could not be found. Please visit https://aka.ms/azure-dev for installation instructions and then,once installed, authenticate to your Azure account using 'azd auth login'.\n",
      "To mitigate this issue, please refer to the troubleshooting guidelines here at https://aka.ms/azsdk/python/identity/defaultazurecredential/troubleshoot.\n"
     ]
    },
    {
     "ename": "ClientAuthenticationError",
     "evalue": "DefaultAzureCredential failed to retrieve a token from the included credentials.\nAttempted credentials:\n\tEnvironmentCredential: EnvironmentCredential authentication unavailable. Environment variables are not fully configured.\nVisit https://aka.ms/azsdk/python/identity/environmentcredential/troubleshoot to troubleshoot this issue.\n\tManagedIdentityCredential: ManagedIdentityCredential authentication unavailable, no response from the IMDS endpoint.\n\tSharedTokenCacheCredential: SharedTokenCacheCredential authentication unavailable. No accounts were found in the cache.\n\tAzureCliCredential: Azure CLI not found on path\n\tAzurePowerShellCredential: PowerShell is not installed\n\tAzureDeveloperCliCredential: Azure Developer CLI could not be found. Please visit https://aka.ms/azure-dev for installation instructions and then,once installed, authenticate to your Azure account using 'azd auth login'.\nTo mitigate this issue, please refer to the troubleshooting guidelines here at https://aka.ms/azsdk/python/identity/defaultazurecredential/troubleshoot.",
     "output_type": "error",
     "traceback": [
      "\u001b[0;31m---------------------------------------------------------------------------\u001b[0m",
      "\u001b[0;31mClientAuthenticationError\u001b[0m                 Traceback (most recent call last)",
      "Cell \u001b[0;32mIn[54], line 11\u001b[0m\n\u001b[1;32m      5\u001b[0m test_data_name \u001b[39m=\u001b[39m \u001b[39m'\u001b[39m\u001b[39mhepatitis_c_test_parquet\u001b[39m\u001b[39m'\u001b[39m\n\u001b[1;32m      6\u001b[0m training_data \u001b[39m=\u001b[39m Data(    name\u001b[39m=\u001b[39mtrain_data_name,    \n\u001b[1;32m      7\u001b[0m                 path\u001b[39m=\u001b[39m\u001b[39m'\u001b[39m\u001b[39mdata/train.parquet\u001b[39m\u001b[39m'\u001b[39m,    \n\u001b[1;32m      8\u001b[0m                 \u001b[39mtype\u001b[39m\u001b[39m=\u001b[39mAssetTypes\u001b[39m.\u001b[39mURI_FILE,    \n\u001b[1;32m      9\u001b[0m                 description\u001b[39m=\u001b[39m\u001b[39m'\u001b[39m\u001b[39mRAI hepatitis c train data\u001b[39m\u001b[39m'\u001b[39m)\n\u001b[0;32m---> 11\u001b[0m tr_data \u001b[39m=\u001b[39m ml_client\u001b[39m.\u001b[39;49mdata\u001b[39m.\u001b[39;49mcreate_or_update(training_data)\n\u001b[1;32m     12\u001b[0m test_data \u001b[39m=\u001b[39m Data(    name\u001b[39m=\u001b[39mtest_data_name,    \n\u001b[1;32m     13\u001b[0m                 path\u001b[39m=\u001b[39m\u001b[39m'\u001b[39m\u001b[39mdata/test.parquet\u001b[39m\u001b[39m'\u001b[39m,    \n\u001b[1;32m     14\u001b[0m                 \u001b[39mtype\u001b[39m\u001b[39m=\u001b[39mAssetTypes\u001b[39m.\u001b[39mURI_FILE,    \n\u001b[1;32m     15\u001b[0m                 description\u001b[39m=\u001b[39m\u001b[39m'\u001b[39m\u001b[39mRAI hepatitis c test data\u001b[39m\u001b[39m'\u001b[39m)\n\u001b[1;32m     17\u001b[0m ts_data \u001b[39m=\u001b[39m ml_client\u001b[39m.\u001b[39mdata\u001b[39m.\u001b[39mcreate_or_update(test_data)\n",
      "File \u001b[0;32m~/anaconda3/envs/RAI/lib/python3.9/site-packages/azure/ai/ml/_telemetry/activity.py:275\u001b[0m, in \u001b[0;36mmonitor_with_activity.<locals>.monitor.<locals>.wrapper\u001b[0;34m(*args, **kwargs)\u001b[0m\n\u001b[1;32m    272\u001b[0m \u001b[39m@functools\u001b[39m\u001b[39m.\u001b[39mwraps(f)\n\u001b[1;32m    273\u001b[0m \u001b[39mdef\u001b[39;00m \u001b[39mwrapper\u001b[39m(\u001b[39m*\u001b[39margs, \u001b[39m*\u001b[39m\u001b[39m*\u001b[39mkwargs):\n\u001b[1;32m    274\u001b[0m     \u001b[39mwith\u001b[39;00m log_activity(logger, activity_name \u001b[39mor\u001b[39;00m f\u001b[39m.\u001b[39m\u001b[39m__name__\u001b[39m, activity_type, custom_dimensions):\n\u001b[0;32m--> 275\u001b[0m         \u001b[39mreturn\u001b[39;00m f(\u001b[39m*\u001b[39;49margs, \u001b[39m*\u001b[39;49m\u001b[39m*\u001b[39;49mkwargs)\n",
      "File \u001b[0;32m~/anaconda3/envs/RAI/lib/python3.9/site-packages/azure/ai/ml/operations/_data_operations.py:418\u001b[0m, in \u001b[0;36mDataOperations.create_or_update\u001b[0;34m(self, data)\u001b[0m\n\u001b[1;32m    411\u001b[0m     \u001b[39mif\u001b[39;00m \u001b[39mstr\u001b[39m(ex) \u001b[39m==\u001b[39m ASSET_PATH_ERROR:\n\u001b[1;32m    412\u001b[0m         \u001b[39mraise\u001b[39;00m AssetPathException(\n\u001b[1;32m    413\u001b[0m             message\u001b[39m=\u001b[39mCHANGED_ASSET_PATH_MSG,\n\u001b[1;32m    414\u001b[0m             tartget\u001b[39m=\u001b[39mErrorTarget\u001b[39m.\u001b[39mDATA,\n\u001b[1;32m    415\u001b[0m             no_personal_data_message\u001b[39m=\u001b[39mCHANGED_ASSET_PATH_MSG_NO_PERSONAL_DATA,\n\u001b[1;32m    416\u001b[0m             error_category\u001b[39m=\u001b[39mErrorCategory\u001b[39m.\u001b[39mUSER_ERROR,\n\u001b[1;32m    417\u001b[0m         ) \u001b[39mfrom\u001b[39;00m \u001b[39mex\u001b[39;00m\n\u001b[0;32m--> 418\u001b[0m \u001b[39mraise\u001b[39;00m ex\n",
      "File \u001b[0;32m~/anaconda3/envs/RAI/lib/python3.9/site-packages/azure/ai/ml/operations/_data_operations.py:360\u001b[0m, in \u001b[0;36mDataOperations.create_or_update\u001b[0;34m(self, data)\u001b[0m\n\u001b[1;32m    357\u001b[0m \u001b[39mif\u001b[39;00m referenced_uris:\n\u001b[1;32m    358\u001b[0m     data\u001b[39m.\u001b[39m_referenced_uris \u001b[39m=\u001b[39m referenced_uris\n\u001b[0;32m--> 360\u001b[0m data, _ \u001b[39m=\u001b[39m _check_and_upload_path(\n\u001b[1;32m    361\u001b[0m     artifact\u001b[39m=\u001b[39;49mdata,\n\u001b[1;32m    362\u001b[0m     asset_operations\u001b[39m=\u001b[39;49m\u001b[39mself\u001b[39;49m,\n\u001b[1;32m    363\u001b[0m     sas_uri\u001b[39m=\u001b[39;49msas_uri,\n\u001b[1;32m    364\u001b[0m     artifact_type\u001b[39m=\u001b[39;49mErrorTarget\u001b[39m.\u001b[39;49mDATA,\n\u001b[1;32m    365\u001b[0m     show_progress\u001b[39m=\u001b[39;49m\u001b[39mself\u001b[39;49m\u001b[39m.\u001b[39;49m_show_progress,\n\u001b[1;32m    366\u001b[0m )\n\u001b[1;32m    368\u001b[0m _check_or_modify_auto_delete_setting(data\u001b[39m.\u001b[39mauto_delete_setting)\n\u001b[1;32m    370\u001b[0m data_version_resource \u001b[39m=\u001b[39m data\u001b[39m.\u001b[39m_to_rest_object()\n",
      "File \u001b[0;32m~/anaconda3/envs/RAI/lib/python3.9/site-packages/azure/ai/ml/_artifacts/_artifact_utilities.py:497\u001b[0m, in \u001b[0;36m_check_and_upload_path\u001b[0;34m(artifact, asset_operations, artifact_type, datastore_name, sas_uri, show_progress, blob_uri)\u001b[0m\n\u001b[1;32m    495\u001b[0m \u001b[39mif\u001b[39;00m \u001b[39mnot\u001b[39;00m path\u001b[39m.\u001b[39mis_absolute():\n\u001b[1;32m    496\u001b[0m     path \u001b[39m=\u001b[39m Path(artifact\u001b[39m.\u001b[39mbase_path, path)\u001b[39m.\u001b[39mresolve()\n\u001b[0;32m--> 497\u001b[0m uploaded_artifact \u001b[39m=\u001b[39m _upload_to_datastore(\n\u001b[1;32m    498\u001b[0m     asset_operations\u001b[39m.\u001b[39;49m_operation_scope,\n\u001b[1;32m    499\u001b[0m     asset_operations\u001b[39m.\u001b[39;49m_datastore_operation,\n\u001b[1;32m    500\u001b[0m     path,\n\u001b[1;32m    501\u001b[0m     datastore_name\u001b[39m=\u001b[39;49mdatastore_name,\n\u001b[1;32m    502\u001b[0m     asset_name\u001b[39m=\u001b[39;49martifact\u001b[39m.\u001b[39;49mname,\n\u001b[1;32m    503\u001b[0m     asset_version\u001b[39m=\u001b[39;49m\u001b[39mstr\u001b[39;49m(artifact\u001b[39m.\u001b[39;49mversion),\n\u001b[1;32m    504\u001b[0m     asset_hash\u001b[39m=\u001b[39;49m\u001b[39mgetattr\u001b[39;49m(artifact, \u001b[39m\"\u001b[39;49m\u001b[39m_upload_hash\u001b[39;49m\u001b[39m\"\u001b[39;49m, \u001b[39mNone\u001b[39;49;00m),\n\u001b[1;32m    505\u001b[0m     sas_uri\u001b[39m=\u001b[39;49msas_uri,\n\u001b[1;32m    506\u001b[0m     artifact_type\u001b[39m=\u001b[39;49martifact_type,\n\u001b[1;32m    507\u001b[0m     show_progress\u001b[39m=\u001b[39;49mshow_progress,\n\u001b[1;32m    508\u001b[0m     ignore_file\u001b[39m=\u001b[39;49m\u001b[39mgetattr\u001b[39;49m(artifact, \u001b[39m\"\u001b[39;49m\u001b[39m_ignore_file\u001b[39;49m\u001b[39m\"\u001b[39;49m, \u001b[39mNone\u001b[39;49;00m),\n\u001b[1;32m    509\u001b[0m     blob_uri\u001b[39m=\u001b[39;49mblob_uri,\n\u001b[1;32m    510\u001b[0m )\n\u001b[1;32m    511\u001b[0m indicator_file \u001b[39m=\u001b[39m uploaded_artifact\u001b[39m.\u001b[39mindicator_file  \u001b[39m# reference to storage contents\u001b[39;00m\n\u001b[1;32m    512\u001b[0m \u001b[39mif\u001b[39;00m artifact\u001b[39m.\u001b[39m_is_anonymous:\n",
      "File \u001b[0;32m~/anaconda3/envs/RAI/lib/python3.9/site-packages/azure/ai/ml/_artifacts/_artifact_utilities.py:382\u001b[0m, in \u001b[0;36m_upload_to_datastore\u001b[0;34m(operation_scope, datastore_operation, path, artifact_type, datastore_name, show_progress, asset_name, asset_version, asset_hash, ignore_file, sas_uri, blob_uri)\u001b[0m\n\u001b[1;32m    380\u001b[0m \u001b[39mif\u001b[39;00m \u001b[39mnot\u001b[39;00m asset_hash:\n\u001b[1;32m    381\u001b[0m     asset_hash \u001b[39m=\u001b[39m get_object_hash(path, ignore_file)\n\u001b[0;32m--> 382\u001b[0m artifact \u001b[39m=\u001b[39m upload_artifact(\n\u001b[1;32m    383\u001b[0m     \u001b[39mstr\u001b[39;49m(path),\n\u001b[1;32m    384\u001b[0m     datastore_operation,\n\u001b[1;32m    385\u001b[0m     operation_scope,\n\u001b[1;32m    386\u001b[0m     datastore_name,\n\u001b[1;32m    387\u001b[0m     show_progress\u001b[39m=\u001b[39;49mshow_progress,\n\u001b[1;32m    388\u001b[0m     asset_hash\u001b[39m=\u001b[39;49masset_hash,\n\u001b[1;32m    389\u001b[0m     asset_name\u001b[39m=\u001b[39;49masset_name,\n\u001b[1;32m    390\u001b[0m     asset_version\u001b[39m=\u001b[39;49masset_version,\n\u001b[1;32m    391\u001b[0m     ignore_file\u001b[39m=\u001b[39;49mignore_file,\n\u001b[1;32m    392\u001b[0m     sas_uri\u001b[39m=\u001b[39;49msas_uri,\n\u001b[1;32m    393\u001b[0m )\n\u001b[1;32m    394\u001b[0m \u001b[39mif\u001b[39;00m blob_uri:\n\u001b[1;32m    395\u001b[0m     artifact\u001b[39m.\u001b[39mstorage_account_url \u001b[39m=\u001b[39m blob_uri\n",
      "File \u001b[0;32m~/anaconda3/envs/RAI/lib/python3.9/site-packages/azure/ai/ml/_artifacts/_artifact_utilities.py:238\u001b[0m, in \u001b[0;36mupload_artifact\u001b[0;34m(local_path, datastore_operation, operation_scope, datastore_name, asset_hash, show_progress, asset_name, asset_version, ignore_file, sas_uri)\u001b[0m\n\u001b[1;32m    236\u001b[0m \u001b[39melse\u001b[39;00m:\n\u001b[1;32m    237\u001b[0m     datastore_name \u001b[39m=\u001b[39m _get_datastore_name(datastore_name\u001b[39m=\u001b[39mdatastore_name)\n\u001b[0;32m--> 238\u001b[0m     datastore_info \u001b[39m=\u001b[39m get_datastore_info(datastore_operation, datastore_name)\n\u001b[1;32m    239\u001b[0m     storage_client \u001b[39m=\u001b[39m get_storage_client(\u001b[39m*\u001b[39m\u001b[39m*\u001b[39mdatastore_info)\n\u001b[1;32m    241\u001b[0m artifact_info \u001b[39m=\u001b[39m storage_client\u001b[39m.\u001b[39mupload(\n\u001b[1;32m    242\u001b[0m     local_path,\n\u001b[1;32m    243\u001b[0m     asset_hash\u001b[39m=\u001b[39masset_hash,\n\u001b[0;32m   (...)\u001b[0m\n\u001b[1;32m    247\u001b[0m     ignore_file\u001b[39m=\u001b[39mignore_file,\n\u001b[1;32m    248\u001b[0m )\n",
      "File \u001b[0;32m~/anaconda3/envs/RAI/lib/python3.9/site-packages/azure/ai/ml/_artifacts/_artifact_utilities.py:88\u001b[0m, in \u001b[0;36mget_datastore_info\u001b[0;34m(operations, name, credential, **kwargs)\u001b[0m\n\u001b[1;32m     86\u001b[0m datastore_info \u001b[39m=\u001b[39m {}\n\u001b[1;32m     87\u001b[0m \u001b[39mif\u001b[39;00m name:\n\u001b[0;32m---> 88\u001b[0m     datastore \u001b[39m=\u001b[39m operations\u001b[39m.\u001b[39;49mget(name, include_secrets\u001b[39m=\u001b[39;49mcredential \u001b[39mis\u001b[39;49;00m \u001b[39mNone\u001b[39;49;00m)\n\u001b[1;32m     89\u001b[0m \u001b[39melse\u001b[39;00m:\n\u001b[1;32m     90\u001b[0m     datastore \u001b[39m=\u001b[39m operations\u001b[39m.\u001b[39mget_default(include_secrets\u001b[39m=\u001b[39mcredential \u001b[39mis\u001b[39;00m \u001b[39mNone\u001b[39;00m)\n",
      "File \u001b[0;32m~/anaconda3/envs/RAI/lib/python3.9/site-packages/azure/ai/ml/_telemetry/activity.py:275\u001b[0m, in \u001b[0;36mmonitor_with_activity.<locals>.monitor.<locals>.wrapper\u001b[0;34m(*args, **kwargs)\u001b[0m\n\u001b[1;32m    272\u001b[0m \u001b[39m@functools\u001b[39m\u001b[39m.\u001b[39mwraps(f)\n\u001b[1;32m    273\u001b[0m \u001b[39mdef\u001b[39;00m \u001b[39mwrapper\u001b[39m(\u001b[39m*\u001b[39margs, \u001b[39m*\u001b[39m\u001b[39m*\u001b[39mkwargs):\n\u001b[1;32m    274\u001b[0m     \u001b[39mwith\u001b[39;00m log_activity(logger, activity_name \u001b[39mor\u001b[39;00m f\u001b[39m.\u001b[39m\u001b[39m__name__\u001b[39m, activity_type, custom_dimensions):\n\u001b[0;32m--> 275\u001b[0m         \u001b[39mreturn\u001b[39;00m f(\u001b[39m*\u001b[39;49margs, \u001b[39m*\u001b[39;49m\u001b[39m*\u001b[39;49mkwargs)\n",
      "File \u001b[0;32m~/anaconda3/envs/RAI/lib/python3.9/site-packages/azure/ai/ml/operations/_datastore_operations.py:140\u001b[0m, in \u001b[0;36mDatastoreOperations.get\u001b[0;34m(self, name, include_secrets)\u001b[0m\n\u001b[1;32m    121\u001b[0m \u001b[39m\u001b[39m\u001b[39m\"\"\"Returns information about the datastore referenced by the given name.\u001b[39;00m\n\u001b[1;32m    122\u001b[0m \n\u001b[1;32m    123\u001b[0m \u001b[39m:param name: Datastore name\u001b[39;00m\n\u001b[0;32m   (...)\u001b[0m\n\u001b[1;32m    137\u001b[0m \u001b[39m        :caption: Get datastore example.\u001b[39;00m\n\u001b[1;32m    138\u001b[0m \u001b[39m\"\"\"\u001b[39;00m\n\u001b[1;32m    139\u001b[0m \u001b[39mtry\u001b[39;00m:\n\u001b[0;32m--> 140\u001b[0m     datastore_resource \u001b[39m=\u001b[39m \u001b[39mself\u001b[39;49m\u001b[39m.\u001b[39;49m_operation\u001b[39m.\u001b[39;49mget(\n\u001b[1;32m    141\u001b[0m         name\u001b[39m=\u001b[39;49mname,\n\u001b[1;32m    142\u001b[0m         resource_group_name\u001b[39m=\u001b[39;49m\u001b[39mself\u001b[39;49m\u001b[39m.\u001b[39;49m_operation_scope\u001b[39m.\u001b[39;49mresource_group_name,\n\u001b[1;32m    143\u001b[0m         workspace_name\u001b[39m=\u001b[39;49m\u001b[39mself\u001b[39;49m\u001b[39m.\u001b[39;49m_workspace_name,\n\u001b[1;32m    144\u001b[0m         \u001b[39m*\u001b[39;49m\u001b[39m*\u001b[39;49m\u001b[39mself\u001b[39;49m\u001b[39m.\u001b[39;49m_init_kwargs\n\u001b[1;32m    145\u001b[0m     )\n\u001b[1;32m    146\u001b[0m     \u001b[39mif\u001b[39;00m include_secrets:\n\u001b[1;32m    147\u001b[0m         \u001b[39mself\u001b[39m\u001b[39m.\u001b[39m_fetch_and_populate_secret(datastore_resource)\n",
      "File \u001b[0;32m~/anaconda3/envs/RAI/lib/python3.9/site-packages/azure/core/tracing/decorator.py:78\u001b[0m, in \u001b[0;36mdistributed_trace.<locals>.decorator.<locals>.wrapper_use_tracer\u001b[0;34m(*args, **kwargs)\u001b[0m\n\u001b[1;32m     76\u001b[0m span_impl_type \u001b[39m=\u001b[39m settings\u001b[39m.\u001b[39mtracing_implementation()\n\u001b[1;32m     77\u001b[0m \u001b[39mif\u001b[39;00m span_impl_type \u001b[39mis\u001b[39;00m \u001b[39mNone\u001b[39;00m:\n\u001b[0;32m---> 78\u001b[0m     \u001b[39mreturn\u001b[39;00m func(\u001b[39m*\u001b[39;49margs, \u001b[39m*\u001b[39;49m\u001b[39m*\u001b[39;49mkwargs)\n\u001b[1;32m     80\u001b[0m \u001b[39m# Merge span is parameter is set, but only if no explicit parent are passed\u001b[39;00m\n\u001b[1;32m     81\u001b[0m \u001b[39mif\u001b[39;00m merge_span \u001b[39mand\u001b[39;00m \u001b[39mnot\u001b[39;00m passed_in_parent:\n",
      "File \u001b[0;32m~/anaconda3/envs/RAI/lib/python3.9/site-packages/azure/ai/ml/_restclient/v2023_04_01_preview/operations/_datastores_operations.py:504\u001b[0m, in \u001b[0;36mDatastoresOperations.get\u001b[0;34m(self, resource_group_name, workspace_name, name, **kwargs)\u001b[0m\n\u001b[1;32m    501\u001b[0m request \u001b[39m=\u001b[39m _convert_request(request)\n\u001b[1;32m    502\u001b[0m request\u001b[39m.\u001b[39murl \u001b[39m=\u001b[39m \u001b[39mself\u001b[39m\u001b[39m.\u001b[39m_client\u001b[39m.\u001b[39mformat_url(request\u001b[39m.\u001b[39murl)\n\u001b[0;32m--> 504\u001b[0m pipeline_response \u001b[39m=\u001b[39m \u001b[39mself\u001b[39;49m\u001b[39m.\u001b[39;49m_client\u001b[39m.\u001b[39;49m_pipeline\u001b[39m.\u001b[39;49mrun(  \u001b[39m# pylint: disable=protected-access\u001b[39;49;00m\n\u001b[1;32m    505\u001b[0m     request,\n\u001b[1;32m    506\u001b[0m     stream\u001b[39m=\u001b[39;49m\u001b[39mFalse\u001b[39;49;00m,\n\u001b[1;32m    507\u001b[0m     \u001b[39m*\u001b[39;49m\u001b[39m*\u001b[39;49mkwargs\n\u001b[1;32m    508\u001b[0m )\n\u001b[1;32m    509\u001b[0m response \u001b[39m=\u001b[39m pipeline_response\u001b[39m.\u001b[39mhttp_response\n\u001b[1;32m    511\u001b[0m \u001b[39mif\u001b[39;00m response\u001b[39m.\u001b[39mstatus_code \u001b[39mnot\u001b[39;00m \u001b[39min\u001b[39;00m [\u001b[39m200\u001b[39m]:\n",
      "File \u001b[0;32m~/anaconda3/envs/RAI/lib/python3.9/site-packages/azure/core/pipeline/_base.py:230\u001b[0m, in \u001b[0;36mPipeline.run\u001b[0;34m(self, request, **kwargs)\u001b[0m\n\u001b[1;32m    228\u001b[0m pipeline_request: PipelineRequest[HTTPRequestType] \u001b[39m=\u001b[39m PipelineRequest(request, context)\n\u001b[1;32m    229\u001b[0m first_node \u001b[39m=\u001b[39m \u001b[39mself\u001b[39m\u001b[39m.\u001b[39m_impl_policies[\u001b[39m0\u001b[39m] \u001b[39mif\u001b[39;00m \u001b[39mself\u001b[39m\u001b[39m.\u001b[39m_impl_policies \u001b[39melse\u001b[39;00m _TransportRunner(\u001b[39mself\u001b[39m\u001b[39m.\u001b[39m_transport)\n\u001b[0;32m--> 230\u001b[0m \u001b[39mreturn\u001b[39;00m first_node\u001b[39m.\u001b[39;49msend(pipeline_request)\n",
      "File \u001b[0;32m~/anaconda3/envs/RAI/lib/python3.9/site-packages/azure/core/pipeline/_base.py:86\u001b[0m, in \u001b[0;36m_SansIOHTTPPolicyRunner.send\u001b[0;34m(self, request)\u001b[0m\n\u001b[1;32m     84\u001b[0m _await_result(\u001b[39mself\u001b[39m\u001b[39m.\u001b[39m_policy\u001b[39m.\u001b[39mon_request, request)\n\u001b[1;32m     85\u001b[0m \u001b[39mtry\u001b[39;00m:\n\u001b[0;32m---> 86\u001b[0m     response \u001b[39m=\u001b[39m \u001b[39mself\u001b[39;49m\u001b[39m.\u001b[39;49mnext\u001b[39m.\u001b[39;49msend(request)\n\u001b[1;32m     87\u001b[0m \u001b[39mexcept\u001b[39;00m \u001b[39mException\u001b[39;00m:  \u001b[39m# pylint: disable=broad-except\u001b[39;00m\n\u001b[1;32m     88\u001b[0m     _await_result(\u001b[39mself\u001b[39m\u001b[39m.\u001b[39m_policy\u001b[39m.\u001b[39mon_exception, request)\n",
      "File \u001b[0;32m~/anaconda3/envs/RAI/lib/python3.9/site-packages/azure/core/pipeline/_base.py:86\u001b[0m, in \u001b[0;36m_SansIOHTTPPolicyRunner.send\u001b[0;34m(self, request)\u001b[0m\n\u001b[1;32m     84\u001b[0m _await_result(\u001b[39mself\u001b[39m\u001b[39m.\u001b[39m_policy\u001b[39m.\u001b[39mon_request, request)\n\u001b[1;32m     85\u001b[0m \u001b[39mtry\u001b[39;00m:\n\u001b[0;32m---> 86\u001b[0m     response \u001b[39m=\u001b[39m \u001b[39mself\u001b[39;49m\u001b[39m.\u001b[39;49mnext\u001b[39m.\u001b[39;49msend(request)\n\u001b[1;32m     87\u001b[0m \u001b[39mexcept\u001b[39;00m \u001b[39mException\u001b[39;00m:  \u001b[39m# pylint: disable=broad-except\u001b[39;00m\n\u001b[1;32m     88\u001b[0m     _await_result(\u001b[39mself\u001b[39m\u001b[39m.\u001b[39m_policy\u001b[39m.\u001b[39mon_exception, request)\n",
      "    \u001b[0;31m[... skipping similar frames: _SansIOHTTPPolicyRunner.send at line 86 (2 times)]\u001b[0m\n",
      "File \u001b[0;32m~/anaconda3/envs/RAI/lib/python3.9/site-packages/azure/core/pipeline/_base.py:86\u001b[0m, in \u001b[0;36m_SansIOHTTPPolicyRunner.send\u001b[0;34m(self, request)\u001b[0m\n\u001b[1;32m     84\u001b[0m _await_result(\u001b[39mself\u001b[39m\u001b[39m.\u001b[39m_policy\u001b[39m.\u001b[39mon_request, request)\n\u001b[1;32m     85\u001b[0m \u001b[39mtry\u001b[39;00m:\n\u001b[0;32m---> 86\u001b[0m     response \u001b[39m=\u001b[39m \u001b[39mself\u001b[39;49m\u001b[39m.\u001b[39;49mnext\u001b[39m.\u001b[39;49msend(request)\n\u001b[1;32m     87\u001b[0m \u001b[39mexcept\u001b[39;00m \u001b[39mException\u001b[39;00m:  \u001b[39m# pylint: disable=broad-except\u001b[39;00m\n\u001b[1;32m     88\u001b[0m     _await_result(\u001b[39mself\u001b[39m\u001b[39m.\u001b[39m_policy\u001b[39m.\u001b[39mon_exception, request)\n",
      "File \u001b[0;32m~/anaconda3/envs/RAI/lib/python3.9/site-packages/azure/mgmt/core/policies/_base.py:46\u001b[0m, in \u001b[0;36mARMAutoResourceProviderRegistrationPolicy.send\u001b[0;34m(self, request)\u001b[0m\n\u001b[1;32m     43\u001b[0m \u001b[39mdef\u001b[39;00m \u001b[39msend\u001b[39m(\u001b[39mself\u001b[39m, request):\n\u001b[1;32m     44\u001b[0m     \u001b[39m# type: (PipelineRequest[HTTPRequestType], Any) -> PipelineResponse[HTTPRequestType, HTTPResponseType]\u001b[39;00m\n\u001b[1;32m     45\u001b[0m     http_request \u001b[39m=\u001b[39m request\u001b[39m.\u001b[39mhttp_request\n\u001b[0;32m---> 46\u001b[0m     response \u001b[39m=\u001b[39m \u001b[39mself\u001b[39;49m\u001b[39m.\u001b[39;49mnext\u001b[39m.\u001b[39;49msend(request)\n\u001b[1;32m     47\u001b[0m     \u001b[39mif\u001b[39;00m response\u001b[39m.\u001b[39mhttp_response\u001b[39m.\u001b[39mstatus_code \u001b[39m==\u001b[39m \u001b[39m409\u001b[39m:\n\u001b[1;32m     48\u001b[0m         rp_name \u001b[39m=\u001b[39m \u001b[39mself\u001b[39m\u001b[39m.\u001b[39m_check_rp_not_registered_err(response)\n",
      "File \u001b[0;32m~/anaconda3/envs/RAI/lib/python3.9/site-packages/azure/core/pipeline/policies/_redirect.py:197\u001b[0m, in \u001b[0;36mRedirectPolicy.send\u001b[0;34m(self, request)\u001b[0m\n\u001b[1;32m    195\u001b[0m original_domain \u001b[39m=\u001b[39m get_domain(request\u001b[39m.\u001b[39mhttp_request\u001b[39m.\u001b[39murl) \u001b[39mif\u001b[39;00m redirect_settings[\u001b[39m\"\u001b[39m\u001b[39mallow\u001b[39m\u001b[39m\"\u001b[39m] \u001b[39melse\u001b[39;00m \u001b[39mNone\u001b[39;00m\n\u001b[1;32m    196\u001b[0m \u001b[39mwhile\u001b[39;00m retryable:\n\u001b[0;32m--> 197\u001b[0m     response \u001b[39m=\u001b[39m \u001b[39mself\u001b[39;49m\u001b[39m.\u001b[39;49mnext\u001b[39m.\u001b[39;49msend(request)\n\u001b[1;32m    198\u001b[0m     redirect_location \u001b[39m=\u001b[39m \u001b[39mself\u001b[39m\u001b[39m.\u001b[39mget_redirect_location(response)\n\u001b[1;32m    199\u001b[0m     \u001b[39mif\u001b[39;00m redirect_location \u001b[39mand\u001b[39;00m redirect_settings[\u001b[39m\"\u001b[39m\u001b[39mallow\u001b[39m\u001b[39m\"\u001b[39m]:\n",
      "File \u001b[0;32m~/anaconda3/envs/RAI/lib/python3.9/site-packages/azure/core/pipeline/policies/_retry.py:531\u001b[0m, in \u001b[0;36mRetryPolicy.send\u001b[0;34m(self, request)\u001b[0m\n\u001b[1;32m    529\u001b[0m \u001b[39mtry\u001b[39;00m:\n\u001b[1;32m    530\u001b[0m     \u001b[39mself\u001b[39m\u001b[39m.\u001b[39m_configure_timeout(request, absolute_timeout, is_response_error)\n\u001b[0;32m--> 531\u001b[0m     response \u001b[39m=\u001b[39m \u001b[39mself\u001b[39;49m\u001b[39m.\u001b[39;49mnext\u001b[39m.\u001b[39;49msend(request)\n\u001b[1;32m    532\u001b[0m     \u001b[39mif\u001b[39;00m \u001b[39mself\u001b[39m\u001b[39m.\u001b[39mis_retry(retry_settings, response):\n\u001b[1;32m    533\u001b[0m         retry_active \u001b[39m=\u001b[39m \u001b[39mself\u001b[39m\u001b[39m.\u001b[39mincrement(retry_settings, response\u001b[39m=\u001b[39mresponse)\n",
      "File \u001b[0;32m~/anaconda3/envs/RAI/lib/python3.9/site-packages/azure/core/pipeline/policies/_authentication.py:124\u001b[0m, in \u001b[0;36mBearerTokenCredentialPolicy.send\u001b[0;34m(self, request)\u001b[0m\n\u001b[1;32m    116\u001b[0m \u001b[39mdef\u001b[39;00m \u001b[39msend\u001b[39m(\u001b[39mself\u001b[39m, request: PipelineRequest[HTTPRequestType]) \u001b[39m-\u001b[39m\u001b[39m>\u001b[39m PipelineResponse[HTTPRequestType, HTTPResponseType]:\n\u001b[1;32m    117\u001b[0m \u001b[39m    \u001b[39m\u001b[39m\"\"\"Authorize request with a bearer token and send it to the next policy\u001b[39;00m\n\u001b[1;32m    118\u001b[0m \n\u001b[1;32m    119\u001b[0m \u001b[39m    :param request: The pipeline request object\u001b[39;00m\n\u001b[0;32m   (...)\u001b[0m\n\u001b[1;32m    122\u001b[0m \u001b[39m    :rtype: ~azure.core.pipeline.PipelineResponse\u001b[39;00m\n\u001b[1;32m    123\u001b[0m \u001b[39m    \"\"\"\u001b[39;00m\n\u001b[0;32m--> 124\u001b[0m     \u001b[39mself\u001b[39;49m\u001b[39m.\u001b[39;49mon_request(request)\n\u001b[1;32m    125\u001b[0m     \u001b[39mtry\u001b[39;00m:\n\u001b[1;32m    126\u001b[0m         response \u001b[39m=\u001b[39m \u001b[39mself\u001b[39m\u001b[39m.\u001b[39mnext\u001b[39m.\u001b[39msend(request)\n",
      "File \u001b[0;32m~/anaconda3/envs/RAI/lib/python3.9/site-packages/azure/core/pipeline/policies/_authentication.py:99\u001b[0m, in \u001b[0;36mBearerTokenCredentialPolicy.on_request\u001b[0;34m(self, request)\u001b[0m\n\u001b[1;32m     97\u001b[0m         \u001b[39mself\u001b[39m\u001b[39m.\u001b[39m_token \u001b[39m=\u001b[39m \u001b[39mself\u001b[39m\u001b[39m.\u001b[39m_credential\u001b[39m.\u001b[39mget_token(\u001b[39m*\u001b[39m\u001b[39mself\u001b[39m\u001b[39m.\u001b[39m_scopes, enable_cae\u001b[39m=\u001b[39m\u001b[39mself\u001b[39m\u001b[39m.\u001b[39m_enable_cae)\n\u001b[1;32m     98\u001b[0m     \u001b[39melse\u001b[39;00m:\n\u001b[0;32m---> 99\u001b[0m         \u001b[39mself\u001b[39m\u001b[39m.\u001b[39m_token \u001b[39m=\u001b[39m \u001b[39mself\u001b[39;49m\u001b[39m.\u001b[39;49m_credential\u001b[39m.\u001b[39;49mget_token(\u001b[39m*\u001b[39;49m\u001b[39mself\u001b[39;49m\u001b[39m.\u001b[39;49m_scopes)\n\u001b[1;32m    100\u001b[0m \u001b[39mself\u001b[39m\u001b[39m.\u001b[39m_update_headers(request\u001b[39m.\u001b[39mhttp_request\u001b[39m.\u001b[39mheaders, \u001b[39mself\u001b[39m\u001b[39m.\u001b[39m_token\u001b[39m.\u001b[39mtoken)\n",
      "File \u001b[0;32m~/anaconda3/envs/RAI/lib/python3.9/site-packages/azure/identity/_credentials/default.py:225\u001b[0m, in \u001b[0;36mDefaultAzureCredential.get_token\u001b[0;34m(self, claims, tenant_id, *scopes, **kwargs)\u001b[0m\n\u001b[1;32m    223\u001b[0m     \u001b[39mreturn\u001b[39;00m token\n\u001b[1;32m    224\u001b[0m within_dac\u001b[39m.\u001b[39mset(\u001b[39mTrue\u001b[39;00m)\n\u001b[0;32m--> 225\u001b[0m token \u001b[39m=\u001b[39m \u001b[39msuper\u001b[39;49m()\u001b[39m.\u001b[39;49mget_token(\u001b[39m*\u001b[39;49mscopes, claims\u001b[39m=\u001b[39;49mclaims, tenant_id\u001b[39m=\u001b[39;49mtenant_id, \u001b[39m*\u001b[39;49m\u001b[39m*\u001b[39;49mkwargs)\n\u001b[1;32m    226\u001b[0m within_dac\u001b[39m.\u001b[39mset(\u001b[39mFalse\u001b[39;00m)\n\u001b[1;32m    227\u001b[0m \u001b[39mreturn\u001b[39;00m token\n",
      "File \u001b[0;32m~/anaconda3/envs/RAI/lib/python3.9/site-packages/azure/identity/_credentials/chained.py:124\u001b[0m, in \u001b[0;36mChainedTokenCredential.get_token\u001b[0;34m(self, claims, tenant_id, *scopes, **kwargs)\u001b[0m\n\u001b[1;32m    116\u001b[0m message \u001b[39m=\u001b[39m (\n\u001b[1;32m    117\u001b[0m     \u001b[39mself\u001b[39m\u001b[39m.\u001b[39m\u001b[39m__class__\u001b[39m\u001b[39m.\u001b[39m\u001b[39m__name__\u001b[39m\n\u001b[1;32m    118\u001b[0m     \u001b[39m+\u001b[39m \u001b[39m\"\u001b[39m\u001b[39m failed to retrieve a token from the included credentials.\u001b[39m\u001b[39m\"\u001b[39m\n\u001b[0;32m   (...)\u001b[0m\n\u001b[1;32m    121\u001b[0m     \u001b[39m\"\u001b[39m\u001b[39mhttps://aka.ms/azsdk/python/identity/defaultazurecredential/troubleshoot.\u001b[39m\u001b[39m\"\u001b[39m\n\u001b[1;32m    122\u001b[0m )\n\u001b[1;32m    123\u001b[0m _LOGGER\u001b[39m.\u001b[39mwarning(message)\n\u001b[0;32m--> 124\u001b[0m \u001b[39mraise\u001b[39;00m ClientAuthenticationError(message\u001b[39m=\u001b[39mmessage)\n",
      "\u001b[0;31mClientAuthenticationError\u001b[0m: DefaultAzureCredential failed to retrieve a token from the included credentials.\nAttempted credentials:\n\tEnvironmentCredential: EnvironmentCredential authentication unavailable. Environment variables are not fully configured.\nVisit https://aka.ms/azsdk/python/identity/environmentcredential/troubleshoot to troubleshoot this issue.\n\tManagedIdentityCredential: ManagedIdentityCredential authentication unavailable, no response from the IMDS endpoint.\n\tSharedTokenCacheCredential: SharedTokenCacheCredential authentication unavailable. No accounts were found in the cache.\n\tAzureCliCredential: Azure CLI not found on path\n\tAzurePowerShellCredential: PowerShell is not installed\n\tAzureDeveloperCliCredential: Azure Developer CLI could not be found. Please visit https://aka.ms/azure-dev for installation instructions and then,once installed, authenticate to your Azure account using 'azd auth login'.\nTo mitigate this issue, please refer to the troubleshooting guidelines here at https://aka.ms/azsdk/python/identity/defaultazurecredential/troubleshoot."
     ]
    }
   ],
   "source": [
    "from azure.ai.ml.entities import Data\n",
    "from azure.ai.ml.constants import AssetTypes\n",
    "\n",
    "train_data_name = 'hepatitis_c_train_parquet'\n",
    "test_data_name = 'hepatitis_c_test_parquet'\n",
    "training_data = Data(    name=train_data_name,    \n",
    "                path='data/train.parquet',    \n",
    "                type=AssetTypes.URI_FILE,    \n",
    "                description='RAI hepatitis c train data')\n",
    "\n",
    "tr_data = ml_client.data.create_or_update(training_data)\n",
    "test_data = Data(    name=test_data_name,    \n",
    "                path='data/test.parquet',    \n",
    "                type=AssetTypes.URI_FILE,    \n",
    "                description='RAI hepatitis c test data')\n",
    "                \n",
    "ts_data = ml_client.data.create_or_update(test_data)"
   ]
  },
  {
   "cell_type": "markdown",
   "metadata": {},
   "source": [
    "## Create a compute cluster"
   ]
  },
  {
   "cell_type": "code",
   "execution_count": null,
   "metadata": {
    "collapsed": false,
    "gather": {
     "logged": 1684434419020
    },
    "jupyter": {
     "outputs_hidden": false,
     "source_hidden": false
    },
    "nteract": {
     "transient": {
      "deleting": false
     }
    }
   },
   "outputs": [],
   "source": [
    "from azure.ai.ml.entities import AmlCompute\n",
    "import time\n",
    "\n",
    "compute_name = 'trainingcompute'\n",
    "\n",
    "my_compute = AmlCompute(\n",
    "    name=compute_name,\n",
    "    size='Standard_DS12_v2',\n",
    "    min_instances=0,\n",
    "    max_instances=4,\n",
    "    idle_time_before_scale_down=3600\n",
    ")\n",
    "ml_client.compute.begin_create_or_update(my_compute).result()"
   ]
  },
  {
   "cell_type": "markdown",
   "metadata": {},
   "source": [
    "## Create the job"
   ]
  },
  {
   "cell_type": "code",
   "execution_count": null,
   "metadata": {
    "gather": {
     "logged": 1684434758448
    }
   },
   "outputs": [],
   "source": [
    "from azure.ai.ml import command, Input, Output\n",
    "\n",
    "target_column_name = 'Category'\n",
    "\n",
    "# Create the job\n",
    "job = command(\n",
    "    description='Trains hepatitis c model',\n",
    "    experiment_name='hepatitis_c_test',\n",
    "    compute=compute_name,\n",
    "    inputs=dict(training_data=Input(type='uri_file', path=f'{train_data_name}@latest'), \n",
    "                target_column_name=target_column_name),\n",
    "    outputs=dict(model_output=Output(type=AssetTypes.MLFLOW_MODEL)),\n",
    "    code='../src/',\n",
    "    environment='azureml://registries/azureml/environments/responsibleai-ubuntu20.04-py38-cpu/versions/37',\n",
    "    command='python train.py ' + \n",
    "            '--training_data ${{inputs.training_data}} ' +\n",
    "            '--target_column_name ${{inputs.target_column_name}} ' +\n",
    "            '--model_output ${{outputs.model_output}}'\n",
    ")\n",
    "job = ml_client.jobs.create_or_update(job)\n",
    "ml_client.jobs.stream(job.name)"
   ]
  },
  {
   "cell_type": "markdown",
   "metadata": {},
   "source": [
    "## Register the model"
   ]
  },
  {
   "cell_type": "code",
   "execution_count": 16,
   "metadata": {
    "gather": {
     "logged": 1684434758713
    }
   },
   "outputs": [],
   "source": [
    "from azure.ai.ml.entities import Model\n",
    "\n",
    "model_name = 'hepatitis_c_model'\n",
    "\n",
    "# Register the model.\n",
    "model_path = f'azureml://jobs/{job.name}/outputs/model_output'\n",
    "model = Model(name=model_name,\n",
    "                path=model_path,\n",
    "                type=AssetTypes.MLFLOW_MODEL)\n",
    "registered_model = ml_client.models.create_or_update(model)"
   ]
  },
  {
   "cell_type": "code",
   "execution_count": null,
   "metadata": {},
   "outputs": [],
   "source": []
  }
 ],
 "metadata": {
  "kernel_info": {
   "name": "python38-azureml"
  },
  "kernelspec": {
   "display_name": "Python 3 (ipykernel)",
   "language": "python",
   "name": "python3"
  },
  "language_info": {
   "codemirror_mode": {
    "name": "ipython",
    "version": 3
   },
   "file_extension": ".py",
   "mimetype": "text/x-python",
   "name": "python",
   "nbconvert_exporter": "python",
   "pygments_lexer": "ipython3",
   "version": "3.9.12"
  },
  "microsoft": {
   "host": {
    "AzureML": {
     "notebookHasBeenCompleted": true
    }
   },
   "ms_spell_check": {
    "ms_spell_check_language": "en"
   }
  },
  "nteract": {
   "version": "nteract-front-end@1.0.0"
  }
 },
 "nbformat": 4,
 "nbformat_minor": 4
}
